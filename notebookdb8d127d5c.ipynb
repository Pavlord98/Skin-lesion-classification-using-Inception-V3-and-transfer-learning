{
 "cells": [
  {
   "cell_type": "code",
   "execution_count": 1,
   "id": "dba6d398",
   "metadata": {
    "_cell_guid": "b1076dfc-b9ad-4769-8c92-a6c4dae69d19",
    "_uuid": "8f2839f25d086af736a60e9eeb907d3b93b6e0e5",
    "execution": {
     "iopub.execute_input": "2022-06-14T16:51:18.259297Z",
     "iopub.status.busy": "2022-06-14T16:51:18.258181Z",
     "iopub.status.idle": "2022-06-14T16:51:23.266897Z",
     "shell.execute_reply": "2022-06-14T16:51:23.265947Z"
    },
    "papermill": {
     "duration": 5.018224,
     "end_time": "2022-06-14T16:51:23.269382",
     "exception": false,
     "start_time": "2022-06-14T16:51:18.251158",
     "status": "completed"
    },
    "tags": []
   },
   "outputs": [],
   "source": [
    "import os\n",
    "import numpy as np\n",
    "import pandas as pd\n",
    "import tensorflow as tf\n",
    "import sklearn\n",
    "from matplotlib import pyplot as plt"
   ]
  },
  {
   "cell_type": "code",
   "execution_count": 2,
   "id": "6f5b1326",
   "metadata": {
    "execution": {
     "iopub.execute_input": "2022-06-14T16:51:23.280130Z",
     "iopub.status.busy": "2022-06-14T16:51:23.279601Z",
     "iopub.status.idle": "2022-06-14T16:51:23.335003Z",
     "shell.execute_reply": "2022-06-14T16:51:23.334140Z"
    },
    "papermill": {
     "duration": 0.063493,
     "end_time": "2022-06-14T16:51:23.337773",
     "exception": false,
     "start_time": "2022-06-14T16:51:23.274280",
     "status": "completed"
    },
    "tags": []
   },
   "outputs": [
    {
     "data": {
      "text/html": [
       "<div>\n",
       "<style scoped>\n",
       "    .dataframe tbody tr th:only-of-type {\n",
       "        vertical-align: middle;\n",
       "    }\n",
       "\n",
       "    .dataframe tbody tr th {\n",
       "        vertical-align: top;\n",
       "    }\n",
       "\n",
       "    .dataframe thead th {\n",
       "        text-align: right;\n",
       "    }\n",
       "</style>\n",
       "<table border=\"1\" class=\"dataframe\">\n",
       "  <thead>\n",
       "    <tr style=\"text-align: right;\">\n",
       "      <th></th>\n",
       "      <th>image</th>\n",
       "      <th>dx</th>\n",
       "    </tr>\n",
       "  </thead>\n",
       "  <tbody>\n",
       "    <tr>\n",
       "      <th>0</th>\n",
       "      <td>ISIC_0024329.jpg</td>\n",
       "      <td>scc</td>\n",
       "    </tr>\n",
       "    <tr>\n",
       "      <th>1</th>\n",
       "      <td>ISIC_0024372.jpg</td>\n",
       "      <td>scc</td>\n",
       "    </tr>\n",
       "    <tr>\n",
       "      <th>2</th>\n",
       "      <td>ISIC_0024418.jpg</td>\n",
       "      <td>scc</td>\n",
       "    </tr>\n",
       "    <tr>\n",
       "      <th>3</th>\n",
       "      <td>ISIC_0024450.jpg</td>\n",
       "      <td>scc</td>\n",
       "    </tr>\n",
       "    <tr>\n",
       "      <th>4</th>\n",
       "      <td>ISIC_0024463.jpg</td>\n",
       "      <td>scc</td>\n",
       "    </tr>\n",
       "    <tr>\n",
       "      <th>...</th>\n",
       "      <td>...</td>\n",
       "      <td>...</td>\n",
       "    </tr>\n",
       "    <tr>\n",
       "      <th>25326</th>\n",
       "      <td>ISIC_0073231.jpg</td>\n",
       "      <td>mel</td>\n",
       "    </tr>\n",
       "    <tr>\n",
       "      <th>25327</th>\n",
       "      <td>ISIC_0073237.jpg</td>\n",
       "      <td>mel</td>\n",
       "    </tr>\n",
       "    <tr>\n",
       "      <th>25328</th>\n",
       "      <td>ISIC_0073238.jpg</td>\n",
       "      <td>mel</td>\n",
       "    </tr>\n",
       "    <tr>\n",
       "      <th>25329</th>\n",
       "      <td>ISIC_0073241.jpg</td>\n",
       "      <td>mel</td>\n",
       "    </tr>\n",
       "    <tr>\n",
       "      <th>25330</th>\n",
       "      <td>ISIC_0073249.jpg</td>\n",
       "      <td>mel</td>\n",
       "    </tr>\n",
       "  </tbody>\n",
       "</table>\n",
       "<p>25331 rows × 2 columns</p>\n",
       "</div>"
      ],
      "text/plain": [
       "                  image   dx\n",
       "0      ISIC_0024329.jpg  scc\n",
       "1      ISIC_0024372.jpg  scc\n",
       "2      ISIC_0024418.jpg  scc\n",
       "3      ISIC_0024450.jpg  scc\n",
       "4      ISIC_0024463.jpg  scc\n",
       "...                 ...  ...\n",
       "25326  ISIC_0073231.jpg  mel\n",
       "25327  ISIC_0073237.jpg  mel\n",
       "25328  ISIC_0073238.jpg  mel\n",
       "25329  ISIC_0073241.jpg  mel\n",
       "25330  ISIC_0073249.jpg  mel\n",
       "\n",
       "[25331 rows x 2 columns]"
      ]
     },
     "execution_count": 2,
     "metadata": {},
     "output_type": "execute_result"
    }
   ],
   "source": [
    "tabela = pd.read_csv('../input/isic-2019-reorganized/ISIC_2019_Training_GroundTruth-reo.csv')\n",
    "tabela['image'] = tabela['image'].astype(str) + '.jpg'\n",
    "tabela"
   ]
  },
  {
   "cell_type": "code",
   "execution_count": 3,
   "id": "9286f017",
   "metadata": {
    "execution": {
     "iopub.execute_input": "2022-06-14T16:51:23.348639Z",
     "iopub.status.busy": "2022-06-14T16:51:23.348370Z",
     "iopub.status.idle": "2022-06-14T16:51:23.363686Z",
     "shell.execute_reply": "2022-06-14T16:51:23.362858Z"
    },
    "papermill": {
     "duration": 0.022886,
     "end_time": "2022-06-14T16:51:23.365504",
     "exception": false,
     "start_time": "2022-06-14T16:51:23.342618",
     "status": "completed"
    },
    "tags": []
   },
   "outputs": [
    {
     "data": {
      "text/plain": [
       "dx\n",
       "ak        867\n",
       "bcc      3323\n",
       "bkl      2624\n",
       "df        239\n",
       "mel      4522\n",
       "nv      12875\n",
       "scc       628\n",
       "vasc      253\n",
       "Name: dx, dtype: int64"
      ]
     },
     "execution_count": 3,
     "metadata": {},
     "output_type": "execute_result"
    }
   ],
   "source": [
    "tabela.groupby('dx')['dx'].count()"
   ]
  },
  {
   "cell_type": "code",
   "execution_count": 4,
   "id": "45441e08",
   "metadata": {
    "execution": {
     "iopub.execute_input": "2022-06-14T16:51:23.375998Z",
     "iopub.status.busy": "2022-06-14T16:51:23.375735Z",
     "iopub.status.idle": "2022-06-14T16:51:23.403597Z",
     "shell.execute_reply": "2022-06-14T16:51:23.402954Z"
    },
    "papermill": {
     "duration": 0.034969,
     "end_time": "2022-06-14T16:51:23.405194",
     "exception": false,
     "start_time": "2022-06-14T16:51:23.370225",
     "status": "completed"
    },
    "tags": []
   },
   "outputs": [],
   "source": [
    "t_ak = tabela.loc[tabela['dx'] == 'ak']\n",
    "oznake = tabela['dx'].unique()\n",
    "redukovana_tabela = pd.DataFrame({'image': [], 'dx': []})\n",
    "for oznaka in (('bcc','mel')):\n",
    "    t = tabela.loc[tabela['dx'] == oznaka]\n",
    "    redukovana_tabela = pd.concat([redukovana_tabela,t],axis = 0)\n",
    "redukovana_tabela\n",
    "t = tabela.loc[tabela['dx']=='nv']\n",
    "t = t.sample(n=5000)\n",
    "redukovana_tabela =  pd.concat([redukovana_tabela,t],axis = 0)"
   ]
  },
  {
   "cell_type": "code",
   "execution_count": 5,
   "id": "3406c9f1",
   "metadata": {
    "execution": {
     "iopub.execute_input": "2022-06-14T16:51:23.415673Z",
     "iopub.status.busy": "2022-06-14T16:51:23.415420Z",
     "iopub.status.idle": "2022-06-14T16:51:29.403515Z",
     "shell.execute_reply": "2022-06-14T16:51:29.402712Z"
    },
    "papermill": {
     "duration": 5.995729,
     "end_time": "2022-06-14T16:51:29.405686",
     "exception": false,
     "start_time": "2022-06-14T16:51:23.409957",
     "status": "completed"
    },
    "tags": []
   },
   "outputs": [
    {
     "name": "stderr",
     "output_type": "stream",
     "text": [
      "2022-06-14 16:51:24.504067: I tensorflow/stream_executor/cuda/cuda_gpu_executor.cc:937] successful NUMA node read from SysFS had negative value (-1), but there must be at least one NUMA node, so returning NUMA node zero\n",
      "2022-06-14 16:51:24.622557: I tensorflow/stream_executor/cuda/cuda_gpu_executor.cc:937] successful NUMA node read from SysFS had negative value (-1), but there must be at least one NUMA node, so returning NUMA node zero\n",
      "2022-06-14 16:51:24.623410: I tensorflow/stream_executor/cuda/cuda_gpu_executor.cc:937] successful NUMA node read from SysFS had negative value (-1), but there must be at least one NUMA node, so returning NUMA node zero\n",
      "2022-06-14 16:51:24.624527: I tensorflow/core/platform/cpu_feature_guard.cc:142] This TensorFlow binary is optimized with oneAPI Deep Neural Network Library (oneDNN) to use the following CPU instructions in performance-critical operations:  AVX2 AVX512F FMA\n",
      "To enable them in other operations, rebuild TensorFlow with the appropriate compiler flags.\n",
      "2022-06-14 16:51:24.628056: I tensorflow/stream_executor/cuda/cuda_gpu_executor.cc:937] successful NUMA node read from SysFS had negative value (-1), but there must be at least one NUMA node, so returning NUMA node zero\n",
      "2022-06-14 16:51:24.628732: I tensorflow/stream_executor/cuda/cuda_gpu_executor.cc:937] successful NUMA node read from SysFS had negative value (-1), but there must be at least one NUMA node, so returning NUMA node zero\n",
      "2022-06-14 16:51:24.629453: I tensorflow/stream_executor/cuda/cuda_gpu_executor.cc:937] successful NUMA node read from SysFS had negative value (-1), but there must be at least one NUMA node, so returning NUMA node zero\n",
      "2022-06-14 16:51:26.805317: I tensorflow/stream_executor/cuda/cuda_gpu_executor.cc:937] successful NUMA node read from SysFS had negative value (-1), but there must be at least one NUMA node, so returning NUMA node zero\n",
      "2022-06-14 16:51:26.806180: I tensorflow/stream_executor/cuda/cuda_gpu_executor.cc:937] successful NUMA node read from SysFS had negative value (-1), but there must be at least one NUMA node, so returning NUMA node zero\n",
      "2022-06-14 16:51:26.806881: I tensorflow/stream_executor/cuda/cuda_gpu_executor.cc:937] successful NUMA node read from SysFS had negative value (-1), but there must be at least one NUMA node, so returning NUMA node zero\n",
      "2022-06-14 16:51:26.807581: I tensorflow/core/common_runtime/gpu/gpu_device.cc:1510] Created device /job:localhost/replica:0/task:0/device:GPU:0 with 15403 MB memory:  -> device: 0, name: Tesla P100-PCIE-16GB, pci bus id: 0000:00:04.0, compute capability: 6.0\n"
     ]
    },
    {
     "name": "stdout",
     "output_type": "stream",
     "text": [
      "Downloading data from https://storage.googleapis.com/tensorflow/keras-applications/inception_v3/inception_v3_weights_tf_dim_ordering_tf_kernels_notop.h5\n",
      "87916544/87910968 [==============================] - 0s 0us/step\n",
      "87924736/87910968 [==============================] - 0s 0us/step\n"
     ]
    }
   ],
   "source": [
    "osnova_modela = tf.keras.applications.InceptionV3(\n",
    "    include_top=False,\n",
    "    weights=\"imagenet\",\n",
    "    input_shape=(299, 299, 3),\n",
    ")\n",
    "#osnova_modela.summary()"
   ]
  },
  {
   "cell_type": "code",
   "execution_count": 6,
   "id": "20bf9f9b",
   "metadata": {
    "execution": {
     "iopub.execute_input": "2022-06-14T16:51:29.418844Z",
     "iopub.status.busy": "2022-06-14T16:51:29.418298Z",
     "iopub.status.idle": "2022-06-14T16:51:29.961809Z",
     "shell.execute_reply": "2022-06-14T16:51:29.960702Z"
    },
    "papermill": {
     "duration": 0.552749,
     "end_time": "2022-06-14T16:51:29.964276",
     "exception": false,
     "start_time": "2022-06-14T16:51:29.411527",
     "status": "completed"
    },
    "tags": []
   },
   "outputs": [
    {
     "name": "stdout",
     "output_type": "stream",
     "text": [
      "Model: \"sequential\"\n",
      "_________________________________________________________________\n",
      "Layer (type)                 Output Shape              Param #   \n",
      "=================================================================\n",
      "inception_v3 (Functional)    (None, 8, 8, 2048)        21802784  \n",
      "_________________________________________________________________\n",
      "flatten (Flatten)            (None, 131072)            0         \n",
      "_________________________________________________________________\n",
      "dense (Dense)                (None, 3)                 393219    \n",
      "=================================================================\n",
      "Total params: 22,196,003\n",
      "Trainable params: 22,161,571\n",
      "Non-trainable params: 34,432\n",
      "_________________________________________________________________\n"
     ]
    }
   ],
   "source": [
    "model = tf.keras.models.Sequential()\n",
    "model.add(osnova_modela)\n",
    "model.add(tf.keras.layers.Flatten())\n",
    "model.add(tf.keras.layers.Dense(3, activation = 'sigmoid'))\n",
    "model.summary()"
   ]
  },
  {
   "cell_type": "code",
   "execution_count": 7,
   "id": "25b29aa7",
   "metadata": {
    "execution": {
     "iopub.execute_input": "2022-06-14T16:51:29.977690Z",
     "iopub.status.busy": "2022-06-14T16:51:29.977186Z",
     "iopub.status.idle": "2022-06-14T16:51:30.021589Z",
     "shell.execute_reply": "2022-06-14T16:51:30.020848Z"
    },
    "papermill": {
     "duration": 0.052956,
     "end_time": "2022-06-14T16:51:30.023176",
     "exception": false,
     "start_time": "2022-06-14T16:51:29.970220",
     "status": "completed"
    },
    "tags": []
   },
   "outputs": [
    {
     "data": {
      "text/plain": [
       "{0: 1.2884943324305347, 1: 0.9468524251805985, 2: 0.8563333333333333}"
      ]
     },
     "execution_count": 7,
     "metadata": {},
     "output_type": "execute_result"
    }
   ],
   "source": [
    "y = redukovana_tabela['dx']\n",
    "sklearn_weights = sklearn.utils.class_weight.compute_class_weight('balanced',classes = np.unique(y), y = y)\n",
    "sklearn_weights_dict = dict(enumerate(sklearn_weights))\n",
    "sklearn_weights_dict"
   ]
  },
  {
   "cell_type": "code",
   "execution_count": 8,
   "id": "732d8528",
   "metadata": {
    "execution": {
     "iopub.execute_input": "2022-06-14T16:51:30.035911Z",
     "iopub.status.busy": "2022-06-14T16:51:30.035643Z",
     "iopub.status.idle": "2022-06-14T16:51:30.087534Z",
     "shell.execute_reply": "2022-06-14T16:51:30.086818Z"
    },
    "papermill": {
     "duration": 0.060278,
     "end_time": "2022-06-14T16:51:30.089246",
     "exception": false,
     "start_time": "2022-06-14T16:51:30.028968",
     "status": "completed"
    },
    "tags": []
   },
   "outputs": [],
   "source": [
    "from sklearn.model_selection import train_test_split\n",
    "Y = redukovana_tabela.pop('dx').to_frame()\n",
    "X_train, X_test, y_train, y_test = train_test_split(redukovana_tabela,Y, test_size = 0.1, random_state = 42)\n",
    "X_train, X_val, y_train, y_val = train_test_split(X_train,y_train, test_size = 0.1, random_state = 42)"
   ]
  },
  {
   "cell_type": "code",
   "execution_count": 9,
   "id": "c9b32cc1",
   "metadata": {
    "execution": {
     "iopub.execute_input": "2022-06-14T16:51:30.102056Z",
     "iopub.status.busy": "2022-06-14T16:51:30.101773Z",
     "iopub.status.idle": "2022-06-14T16:51:30.108132Z",
     "shell.execute_reply": "2022-06-14T16:51:30.107296Z"
    },
    "papermill": {
     "duration": 0.014472,
     "end_time": "2022-06-14T16:51:30.109916",
     "exception": false,
     "start_time": "2022-06-14T16:51:30.095444",
     "status": "completed"
    },
    "tags": []
   },
   "outputs": [],
   "source": [
    "train = pd.concat([X_train, y_train], axis = 1)\n",
    "val = pd.concat([X_val, y_val], axis = 1)\n",
    "test = pd.concat([X_test, y_test], axis = 1)"
   ]
  },
  {
   "cell_type": "code",
   "execution_count": 10,
   "id": "f75a5a3a",
   "metadata": {
    "execution": {
     "iopub.execute_input": "2022-06-14T16:51:30.122474Z",
     "iopub.status.busy": "2022-06-14T16:51:30.121981Z",
     "iopub.status.idle": "2022-06-14T16:51:30.137142Z",
     "shell.execute_reply": "2022-06-14T16:51:30.136311Z"
    },
    "papermill": {
     "duration": 0.023938,
     "end_time": "2022-06-14T16:51:30.139674",
     "exception": false,
     "start_time": "2022-06-14T16:51:30.115736",
     "status": "completed"
    },
    "tags": []
   },
   "outputs": [
    {
     "data": {
      "text/html": [
       "<div>\n",
       "<style scoped>\n",
       "    .dataframe tbody tr th:only-of-type {\n",
       "        vertical-align: middle;\n",
       "    }\n",
       "\n",
       "    .dataframe tbody tr th {\n",
       "        vertical-align: top;\n",
       "    }\n",
       "\n",
       "    .dataframe thead th {\n",
       "        text-align: right;\n",
       "    }\n",
       "</style>\n",
       "<table border=\"1\" class=\"dataframe\">\n",
       "  <thead>\n",
       "    <tr style=\"text-align: right;\">\n",
       "      <th></th>\n",
       "      <th>image</th>\n",
       "      <th>dx</th>\n",
       "      <th>label</th>\n",
       "    </tr>\n",
       "  </thead>\n",
       "  <tbody>\n",
       "    <tr>\n",
       "      <th>10943</th>\n",
       "      <td>ISIC_0025847.jpg</td>\n",
       "      <td>nv</td>\n",
       "      <td>2</td>\n",
       "    </tr>\n",
       "    <tr>\n",
       "      <th>6447</th>\n",
       "      <td>ISIC_0062946.jpg</td>\n",
       "      <td>bcc</td>\n",
       "      <td>0</td>\n",
       "    </tr>\n",
       "    <tr>\n",
       "      <th>12185</th>\n",
       "      <td>ISIC_0027641.jpg</td>\n",
       "      <td>nv</td>\n",
       "      <td>2</td>\n",
       "    </tr>\n",
       "    <tr>\n",
       "      <th>15615</th>\n",
       "      <td>ISIC_0032619.jpg</td>\n",
       "      <td>nv</td>\n",
       "      <td>2</td>\n",
       "    </tr>\n",
       "    <tr>\n",
       "      <th>9987</th>\n",
       "      <td>ISIC_0024440.jpg</td>\n",
       "      <td>nv</td>\n",
       "      <td>2</td>\n",
       "    </tr>\n",
       "    <tr>\n",
       "      <th>...</th>\n",
       "      <td>...</td>\n",
       "      <td>...</td>\n",
       "      <td>...</td>\n",
       "    </tr>\n",
       "    <tr>\n",
       "      <th>5030</th>\n",
       "      <td>ISIC_0031986.jpg</td>\n",
       "      <td>bcc</td>\n",
       "      <td>0</td>\n",
       "    </tr>\n",
       "    <tr>\n",
       "      <th>5401</th>\n",
       "      <td>ISIC_0055441.jpg</td>\n",
       "      <td>bcc</td>\n",
       "      <td>0</td>\n",
       "    </tr>\n",
       "    <tr>\n",
       "      <th>6399</th>\n",
       "      <td>ISIC_0062601.jpg</td>\n",
       "      <td>bcc</td>\n",
       "      <td>0</td>\n",
       "    </tr>\n",
       "    <tr>\n",
       "      <th>9511</th>\n",
       "      <td>ISIC_0014760_downsampled.jpg</td>\n",
       "      <td>nv</td>\n",
       "      <td>2</td>\n",
       "    </tr>\n",
       "    <tr>\n",
       "      <th>6900</th>\n",
       "      <td>ISIC_0066155.jpg</td>\n",
       "      <td>bcc</td>\n",
       "      <td>0</td>\n",
       "    </tr>\n",
       "  </tbody>\n",
       "</table>\n",
       "<p>1156 rows × 3 columns</p>\n",
       "</div>"
      ],
      "text/plain": [
       "                              image   dx  label\n",
       "10943              ISIC_0025847.jpg   nv      2\n",
       "6447               ISIC_0062946.jpg  bcc      0\n",
       "12185              ISIC_0027641.jpg   nv      2\n",
       "15615              ISIC_0032619.jpg   nv      2\n",
       "9987               ISIC_0024440.jpg   nv      2\n",
       "...                             ...  ...    ...\n",
       "5030               ISIC_0031986.jpg  bcc      0\n",
       "5401               ISIC_0055441.jpg  bcc      0\n",
       "6399               ISIC_0062601.jpg  bcc      0\n",
       "9511   ISIC_0014760_downsampled.jpg   nv      2\n",
       "6900               ISIC_0066155.jpg  bcc      0\n",
       "\n",
       "[1156 rows x 3 columns]"
      ]
     },
     "execution_count": 10,
     "metadata": {},
     "output_type": "execute_result"
    }
   ],
   "source": [
    "from sklearn.preprocessing import LabelEncoder\n",
    "encoder = LabelEncoder()\n",
    "encoder.fit(val['dx'])\n",
    "name_as_indexes_train = encoder.transform(val['dx'])\n",
    "val['label'] = name_as_indexes_train\n",
    "encoder = LabelEncoder()\n",
    "encoder.fit(test['dx'])\n",
    "name_as_indexes_test = encoder.transform(test['dx'])\n",
    "test['label'] = name_as_indexes_test\n",
    "val"
   ]
  },
  {
   "cell_type": "code",
   "execution_count": 11,
   "id": "e5a7e5e2",
   "metadata": {
    "execution": {
     "iopub.execute_input": "2022-06-14T16:51:30.152697Z",
     "iopub.status.busy": "2022-06-14T16:51:30.152060Z",
     "iopub.status.idle": "2022-06-14T16:51:45.855648Z",
     "shell.execute_reply": "2022-06-14T16:51:45.854860Z"
    },
    "papermill": {
     "duration": 15.712145,
     "end_time": "2022-06-14T16:51:45.857662",
     "exception": false,
     "start_time": "2022-06-14T16:51:30.145517",
     "status": "completed"
    },
    "tags": []
   },
   "outputs": [
    {
     "name": "stdout",
     "output_type": "stream",
     "text": [
      "Found 10404 validated image filenames belonging to 3 classes.\n"
     ]
    }
   ],
   "source": [
    "train_generator = tf.keras.preprocessing.image.ImageDataGenerator(rescale = 1./255, \n",
    "                                     horizontal_flip=True,\n",
    "                                     vertical_flip=True,\n",
    "                                     rotation_range=20,\n",
    "                                     )\n",
    "train_data = train_generator.flow_from_dataframe(dataframe = train, x_col = 'image', y_col = 'dx', batch_size = 64, directory = '../input/isic-2019/ISIC_2019_Training_Input/ISIC_2019_Training_Input',\n",
    "                                                 shuffle = True, class_mode = 'categorical', target_size = (299, 299))"
   ]
  },
  {
   "cell_type": "code",
   "execution_count": 12,
   "id": "ee26c7a5",
   "metadata": {
    "execution": {
     "iopub.execute_input": "2022-06-14T16:51:45.871240Z",
     "iopub.status.busy": "2022-06-14T16:51:45.870609Z",
     "iopub.status.idle": "2022-06-14T16:51:47.620316Z",
     "shell.execute_reply": "2022-06-14T16:51:47.619467Z"
    },
    "papermill": {
     "duration": 1.75845,
     "end_time": "2022-06-14T16:51:47.622206",
     "exception": false,
     "start_time": "2022-06-14T16:51:45.863756",
     "status": "completed"
    },
    "tags": []
   },
   "outputs": [
    {
     "name": "stdout",
     "output_type": "stream",
     "text": [
      "Found 1156 validated image filenames belonging to 3 classes.\n"
     ]
    }
   ],
   "source": [
    "val_generator = tf.keras.preprocessing.image.ImageDataGenerator(rescale = 1./255)\n",
    "val_data = train_generator.flow_from_dataframe(dataframe = val, x_col = 'image', y_col = 'dx', batch_size = 1, directory = '../input/isic-2019/ISIC_2019_Training_Input/ISIC_2019_Training_Input',\n",
    "                                               shuffle = True, class_mode = 'categorical', target_size = (299,299))"
   ]
  },
  {
   "cell_type": "code",
   "execution_count": 13,
   "id": "77a788e0",
   "metadata": {
    "execution": {
     "iopub.execute_input": "2022-06-14T16:51:47.636318Z",
     "iopub.status.busy": "2022-06-14T16:51:47.635564Z",
     "iopub.status.idle": "2022-06-14T16:51:49.500051Z",
     "shell.execute_reply": "2022-06-14T16:51:49.498801Z"
    },
    "papermill": {
     "duration": 1.874477,
     "end_time": "2022-06-14T16:51:49.502814",
     "exception": false,
     "start_time": "2022-06-14T16:51:47.628337",
     "status": "completed"
    },
    "tags": []
   },
   "outputs": [
    {
     "name": "stdout",
     "output_type": "stream",
     "text": [
      "Found 1285 validated image filenames belonging to 3 classes.\n"
     ]
    }
   ],
   "source": [
    "test_generator = tf.keras.preprocessing.image.ImageDataGenerator(rescale = 1./255)\n",
    "test_data = train_generator.flow_from_dataframe(dataframe = test, x_col = 'image', y_col = 'dx', batch_size = 1, directory = '../input/isic-2019/ISIC_2019_Training_Input/ISIC_2019_Training_Input',\n",
    "                                                 shuffle = False, class_mode = 'categorical', target_size = (299,299))"
   ]
  },
  {
   "cell_type": "code",
   "execution_count": 14,
   "id": "7a65e2aa",
   "metadata": {
    "execution": {
     "iopub.execute_input": "2022-06-14T16:51:49.516862Z",
     "iopub.status.busy": "2022-06-14T16:51:49.516519Z",
     "iopub.status.idle": "2022-06-14T16:51:49.545944Z",
     "shell.execute_reply": "2022-06-14T16:51:49.545273Z"
    },
    "papermill": {
     "duration": 0.038108,
     "end_time": "2022-06-14T16:51:49.547594",
     "exception": false,
     "start_time": "2022-06-14T16:51:49.509486",
     "status": "completed"
    },
    "tags": []
   },
   "outputs": [],
   "source": [
    "METRICS = [ \n",
    "      tf.keras.metrics.BinaryAccuracy(name='accuracy'),\n",
    "      tf.keras.metrics.Precision(name='precision'),\n",
    "      tf.keras.metrics.Recall(name='recall')\n",
    "]\n",
    "initial_learning_rate = 5e-4\n",
    "epochs = 25\n",
    "decay = initial_learning_rate / epochs\n",
    "def lr_time_based_decay(epoch, lr):\n",
    "    return lr * 1 / (1 + decay * epoch)\n",
    "learning_control = tf.keras.callbacks.LearningRateScheduler(lr_time_based_decay, verbose =1)\n",
    "early_stop = tf.keras.callbacks.EarlyStopping(\n",
    "    monitor='val_loss',\n",
    "    patience=6,\n",
    "    restore_best_weights=True\n",
    ")\n",
    "adam = tf.keras.optimizers.Adam(learning_rate = 5e-4)\n",
    "model.compile ( optimizer = adam, loss = 'categorical_crossentropy', metrics = METRICS)"
   ]
  },
  {
   "cell_type": "code",
   "execution_count": 15,
   "id": "aa2c1333",
   "metadata": {
    "execution": {
     "iopub.execute_input": "2022-06-14T16:51:49.560974Z",
     "iopub.status.busy": "2022-06-14T16:51:49.560374Z",
     "iopub.status.idle": "2022-06-14T18:06:57.371590Z",
     "shell.execute_reply": "2022-06-14T18:06:57.370709Z"
    },
    "papermill": {
     "duration": 4507.819944,
     "end_time": "2022-06-14T18:06:57.373644",
     "exception": false,
     "start_time": "2022-06-14T16:51:49.553700",
     "status": "completed"
    },
    "tags": []
   },
   "outputs": [
    {
     "name": "stderr",
     "output_type": "stream",
     "text": [
      "2022-06-14 16:51:52.937428: I tensorflow/compiler/mlir/mlir_graph_optimization_pass.cc:185] None of the MLIR Optimization Passes are enabled (registered 2)\n"
     ]
    },
    {
     "name": "stdout",
     "output_type": "stream",
     "text": [
      "Epoch 1/25\n",
      "\n",
      "Epoch 00001: LearningRateScheduler setting learning rate to 0.0005000000237487257.\n"
     ]
    },
    {
     "name": "stderr",
     "output_type": "stream",
     "text": [
      "2022-06-14 16:52:03.422090: I tensorflow/stream_executor/cuda/cuda_dnn.cc:369] Loaded cuDNN version 8005\n"
     ]
    },
    {
     "name": "stdout",
     "output_type": "stream",
     "text": [
      "162/162 [==============================] - 589s 4s/step - loss: 1.1190 - accuracy: 0.6081 - precision: 0.4551 - recall: 0.8897 - val_loss: 1.4319 - val_accuracy: 0.6130 - val_precision: 0.4481 - val_recall: 0.6946\n",
      "Epoch 2/25\n",
      "\n",
      "Epoch 00002: LearningRateScheduler setting learning rate to 0.0004999900239482468.\n",
      "162/162 [==============================] - 430s 3s/step - loss: 0.5281 - accuracy: 0.7478 - precision: 0.5736 - recall: 0.9485 - val_loss: 262.5341 - val_accuracy: 0.6459 - val_precision: 0.4803 - val_recall: 0.7604\n",
      "Epoch 3/25\n",
      "\n",
      "Epoch 00003: LearningRateScheduler setting learning rate to 0.0004999700132305193.\n",
      "162/162 [==============================] - 431s 3s/step - loss: 0.5694 - accuracy: 0.7374 - precision: 0.5632 - recall: 0.9452 - val_loss: 0.5094 - val_accuracy: 0.7255 - val_precision: 0.5515 - val_recall: 0.9455\n",
      "Epoch 4/25\n",
      "\n",
      "Epoch 00004: LearningRateScheduler setting learning rate to 0.0004999399921961626.\n",
      "162/162 [==============================] - 433s 3s/step - loss: 0.4307 - accuracy: 0.7611 - precision: 0.5868 - recall: 0.9573 - val_loss: 0.4783 - val_accuracy: 0.7783 - val_precision: 0.6076 - val_recall: 0.9455\n",
      "Epoch 5/25\n",
      "\n",
      "Epoch 00005: LearningRateScheduler setting learning rate to 0.000499900019648752.\n",
      "162/162 [==============================] - 431s 3s/step - loss: 0.5246 - accuracy: 0.7570 - precision: 0.5839 - recall: 0.9427 - val_loss: 30868.7402 - val_accuracy: 0.4977 - val_precision: 0.3702 - val_recall: 0.7232\n",
      "Epoch 6/25\n",
      "\n",
      "Epoch 00006: LearningRateScheduler setting learning rate to 0.0004998500379834779.\n",
      "162/162 [==============================] - 432s 3s/step - loss: 0.7682 - accuracy: 0.7264 - precision: 0.5543 - recall: 0.9142 - val_loss: 5.1073 - val_accuracy: 0.7171 - val_precision: 0.5480 - val_recall: 0.8642\n",
      "Epoch 7/25\n",
      "\n",
      "Epoch 00007: LearningRateScheduler setting learning rate to 0.0004997900478008156.\n",
      "162/162 [==============================] - 431s 3s/step - loss: 0.5552 - accuracy: 0.7462 - precision: 0.5728 - recall: 0.9377 - val_loss: 0.8355 - val_accuracy: 0.7197 - val_precision: 0.5470 - val_recall: 0.9265\n",
      "Epoch 8/25\n",
      "\n",
      "Epoch 00008: LearningRateScheduler setting learning rate to 0.0004997201079007047.\n",
      "162/162 [==============================] - 431s 3s/step - loss: 0.5266 - accuracy: 0.7573 - precision: 0.5842 - recall: 0.9432 - val_loss: 0.7688 - val_accuracy: 0.7073 - val_precision: 0.5362 - val_recall: 0.9040\n",
      "Epoch 9/25\n",
      "\n",
      "Epoch 00009: LearningRateScheduler setting learning rate to 0.0004996401606816838.\n",
      "162/162 [==============================] - 432s 3s/step - loss: 0.4751 - accuracy: 0.7643 - precision: 0.5916 - recall: 0.9461 - val_loss: 0.5406 - val_accuracy: 0.7647 - val_precision: 0.5945 - val_recall: 0.9247\n",
      "Epoch 10/25\n",
      "\n",
      "Epoch 00010: LearningRateScheduler setting learning rate to 0.0004995502649412691.\n",
      "162/162 [==============================] - 431s 3s/step - loss: 0.4381 - accuracy: 0.7635 - precision: 0.5897 - recall: 0.9545 - val_loss: 0.5197 - val_accuracy: 0.7679 - val_precision: 0.5983 - val_recall: 0.9239\n"
     ]
    }
   ],
   "source": [
    "history = model.fit(train_data, steps_per_epoch = train_data.samples//train_data.batch_size,\n",
    "                              validation_data = val_data,\n",
    "                              class_weight = sklearn_weights_dict,\n",
    "                              epochs = 25,\n",
    "                              callbacks = [learning_control, early_stop])"
   ]
  },
  {
   "cell_type": "code",
   "execution_count": 16,
   "id": "3afcc7e7",
   "metadata": {
    "execution": {
     "iopub.execute_input": "2022-06-14T18:06:57.579670Z",
     "iopub.status.busy": "2022-06-14T18:06:57.579341Z",
     "iopub.status.idle": "2022-06-14T18:06:57.903859Z",
     "shell.execute_reply": "2022-06-14T18:06:57.903066Z"
    },
    "papermill": {
     "duration": 0.431139,
     "end_time": "2022-06-14T18:06:57.908126",
     "exception": false,
     "start_time": "2022-06-14T18:06:57.476987",
     "status": "completed"
    },
    "tags": []
   },
   "outputs": [],
   "source": [
    "model.save_weights('my_model_weights.h5')"
   ]
  },
  {
   "cell_type": "code",
   "execution_count": 17,
   "id": "a9fa253e",
   "metadata": {
    "execution": {
     "iopub.execute_input": "2022-06-14T18:06:58.124829Z",
     "iopub.status.busy": "2022-06-14T18:06:58.124484Z",
     "iopub.status.idle": "2022-06-14T18:07:07.852668Z",
     "shell.execute_reply": "2022-06-14T18:07:07.851969Z"
    },
    "papermill": {
     "duration": 9.833041,
     "end_time": "2022-06-14T18:07:07.854465",
     "exception": false,
     "start_time": "2022-06-14T18:06:58.021424",
     "status": "completed"
    },
    "tags": []
   },
   "outputs": [
    {
     "data": {
      "text/plain": [
       "<function matplotlib.pyplot.show(close=None, block=None)>"
      ]
     },
     "execution_count": 17,
     "metadata": {},
     "output_type": "execute_result"
    },
    {
     "data": {
      "image/png": "[encoded data removed]",
      "text/plain": [
       "<Figure size 432x288 with 1 Axes>"
      ]
     },
     "metadata": {
      "needs_background": "light"
     },
     "output_type": "display_data"
    }
   ],
   "source": [
    "import matplotlib.pyplot as plt\n",
    "plt.plot(history.history['accuracy'])\n",
    "plt.plot(history.history['val_accuracy'])\n",
    "plt.title('model accuracy')\n",
    "plt.ylabel('accuracy')\n",
    "plt.xlabel('epoch')\n",
    "plt.legend(['train', 'val'], loc = 'upper left')\n",
    "plt.show"
   ]
  },
  {
   "cell_type": "code",
   "execution_count": 18,
   "id": "91c44231",
   "metadata": {
    "execution": {
     "iopub.execute_input": "2022-06-14T18:07:08.096148Z",
     "iopub.status.busy": "2022-06-14T18:07:08.095788Z",
     "iopub.status.idle": "2022-06-14T18:08:31.146672Z",
     "shell.execute_reply": "2022-06-14T18:08:31.145845Z"
    },
    "papermill": {
     "duration": 83.158792,
     "end_time": "2022-06-14T18:08:31.149225",
     "exception": false,
     "start_time": "2022-06-14T18:07:07.990433",
     "status": "completed"
    },
    "tags": []
   },
   "outputs": [
    {
     "name": "stdout",
     "output_type": "stream",
     "text": [
      "1285/1285 [==============================] - 70s 54ms/step\n",
      "Preciznost je:  79.14396887159533\n"
     ]
    }
   ],
   "source": [
    "test_data.reset()\n",
    "predictions = model.predict(test_data, steps = test_data.samples/test_data.batch_size, verbose = 1)\n",
    "y_pred = np.argmax(predictions, axis = 1)\n",
    "c = np.where(y_pred == name_as_indexes_test)\n",
    "print('Preciznost je: ', (np.count_nonzero(c)/len(name_as_indexes_test))*100)"
   ]
  },
  {
   "cell_type": "code",
   "execution_count": 19,
   "id": "d88a3051",
   "metadata": {
    "execution": {
     "iopub.execute_input": "2022-06-14T18:08:31.604820Z",
     "iopub.status.busy": "2022-06-14T18:08:31.604478Z",
     "iopub.status.idle": "2022-06-14T18:08:31.615161Z",
     "shell.execute_reply": "2022-06-14T18:08:31.614394Z"
    },
    "papermill": {
     "duration": 0.221527,
     "end_time": "2022-06-14T18:08:31.617623",
     "exception": false,
     "start_time": "2022-06-14T18:08:31.396096",
     "status": "completed"
    },
    "tags": []
   },
   "outputs": [
    {
     "name": "stdout",
     "output_type": "stream",
     "text": [
      "              precision    recall  f1-score   support\n",
      "\n",
      "           0       0.81      0.95      0.87       332\n",
      "           1       0.82      0.63      0.71       455\n",
      "           2       0.76      0.83      0.80       498\n",
      "\n",
      "    accuracy                           0.79      1285\n",
      "   macro avg       0.80      0.81      0.79      1285\n",
      "weighted avg       0.80      0.79      0.79      1285\n",
      "\n"
     ]
    }
   ],
   "source": [
    "from sklearn.metrics import classification_report\n",
    "\n",
    "report = classification_report(name_as_indexes_test, y_pred)\n",
    "\n",
    "print(report)"
   ]
  }
 ],
 "metadata": {
  "kernelspec": {
   "display_name": "Python 3",
   "language": "python",
   "name": "python3"
  },
  "language_info": {
   "codemirror_mode": {
    "name": "ipython",
    "version": 3
   },
   "file_extension": ".py",
   "mimetype": "text/x-python",
   "name": "python",
   "nbconvert_exporter": "python",
   "pygments_lexer": "ipython3",
   "version": "3.7.12"
  },
  "papermill": {
   "default_parameters": {},
   "duration": 4645.223875,
   "end_time": "2022-06-14T18:08:35.462473",
   "environment_variables": {},
   "exception": null,
   "input_path": "__notebook__.ipynb",
   "output_path": "__notebook__.ipynb",
   "parameters": {},
   "start_time": "2022-06-14T16:51:10.238598",
   "version": "2.3.4"
  }
 },
 "nbformat": 4,
 "nbformat_minor": 5
}
